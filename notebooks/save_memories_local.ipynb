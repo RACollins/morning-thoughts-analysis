{
 "cells": [
  {
   "cell_type": "markdown",
   "metadata": {},
   "source": [
    "# Imports"
   ]
  },
  {
   "cell_type": "code",
   "execution_count": 7,
   "metadata": {},
   "outputs": [],
   "source": [
    "\n",
    "from mem0 import Memory\n",
    "from dotenv import load_dotenv\n",
    "from pathlib import Path\n",
    "### Edit to make sure branch is saved\n"
   ]
  },
  {
   "cell_type": "markdown",
   "metadata": {},
   "source": [
    "# Instantiate client"
   ]
  },
  {
   "cell_type": "code",
   "execution_count": 8,
   "metadata": {},
   "outputs": [
    {
     "name": "stderr",
     "output_type": "stream",
     "text": [
      "/Users/richardcollins/morning-thoughts-analysis/.venv/lib/python3.13/site-packages/numpy/linalg/_linalg.py:2791: RuntimeWarning: divide by zero encountered in dot\n",
      "  sqnorm = x.dot(x)\n",
      "/Users/richardcollins/morning-thoughts-analysis/.venv/lib/python3.13/site-packages/numpy/linalg/_linalg.py:2791: RuntimeWarning: overflow encountered in dot\n",
      "  sqnorm = x.dot(x)\n",
      "/Users/richardcollins/morning-thoughts-analysis/.venv/lib/python3.13/site-packages/numpy/linalg/_linalg.py:2791: RuntimeWarning: invalid value encountered in dot\n",
      "  sqnorm = x.dot(x)\n"
     ]
    }
   ],
   "source": [
    "load_dotenv()\n",
    "m = Memory()"
   ]
  },
  {
   "cell_type": "markdown",
   "metadata": {},
   "source": [
    "# Import cleaned transcript"
   ]
  },
  {
   "cell_type": "code",
   "execution_count": 13,
   "metadata": {},
   "outputs": [],
   "source": [
    "### Import cleaned transcript markdown as string\n",
    "\n",
    "load_dotenv()\n",
    "\n",
    "m = Memory()\n",
    "\n",
    "TRANSCRIPT_DIR = Path(\"../data/transcripts\")\n",
    "\n",
    "with open(TRANSCRIPT_DIR / \"cleaned/Morning thoughts 1.md\", \"r\") as file:\n",
    "    transcript = file.read()"
   ]
  },
  {
   "cell_type": "markdown",
   "metadata": {},
   "source": [
    "# Add messages"
   ]
  },
  {
   "cell_type": "code",
   "execution_count": 14,
   "metadata": {},
   "outputs": [
    {
     "name": "stderr",
     "output_type": "stream",
     "text": [
      "/Users/richardcollins/morning-thoughts-analysis/.venv/lib/python3.13/site-packages/numpy/linalg/_linalg.py:2791: RuntimeWarning: divide by zero encountered in dot\n",
      "  sqnorm = x.dot(x)\n",
      "/Users/richardcollins/morning-thoughts-analysis/.venv/lib/python3.13/site-packages/numpy/linalg/_linalg.py:2791: RuntimeWarning: overflow encountered in dot\n",
      "  sqnorm = x.dot(x)\n",
      "/Users/richardcollins/morning-thoughts-analysis/.venv/lib/python3.13/site-packages/numpy/linalg/_linalg.py:2791: RuntimeWarning: invalid value encountered in dot\n",
      "  sqnorm = x.dot(x)\n",
      "ERROR:root:Error processing memory action: {'id': '0', 'text': 'Is a software engineer and data analyst, kind of a data scientist', 'event': 'ADD'}, Error: attempt to write a readonly database\n",
      "ERROR:root:Error processing memory action: {'id': '1', 'text': 'Can do a little bit of coding in Python', 'event': 'ADD'}, Error: attempt to write a readonly database\n",
      "ERROR:root:Error processing memory action: {'id': '2', 'text': 'Has been playing with large language models (LLMs) for the past year to year and a half', 'event': 'ADD'}, Error: attempt to write a readonly database\n",
      "ERROR:root:Error processing memory action: {'id': '3', 'text': 'Feels a mixture of excitement and deep anxiety about the future of AI and its impact on employment security', 'event': 'ADD'}, Error: attempt to write a readonly database\n",
      "ERROR:root:Error processing memory action: {'id': '4', 'text': 'Wants to dive deeper into the area of AI and believes there is a lot of money to be made', 'event': 'ADD'}, Error: attempt to write a readonly database\n",
      "ERROR:root:Error processing memory action: {'id': '5', 'text': 'Has difficulty making quick decisions and tends to be introspective', 'event': 'ADD'}, Error: attempt to write a readonly database\n",
      "ERROR:root:Error processing memory action: {'id': '6', 'text': 'Thinks deeply about decisions, leading to solid conclusions based on evidence and rationality', 'event': 'ADD'}, Error: attempt to write a readonly database\n",
      "ERROR:root:Error processing memory action: {'id': '7', 'text': 'Often has good ideas for AI applications but struggles to execute them', 'event': 'ADD'}, Error: attempt to write a readonly database\n"
     ]
    },
    {
     "data": {
      "text/plain": [
       "{'results': []}"
      ]
     },
     "execution_count": 14,
     "metadata": {},
     "output_type": "execute_result"
    }
   ],
   "source": [
    "messages = [\n",
    "    {\"role\": \"user\", \"content\": transcript},\n",
    "    # {\"role\": \"assistant\", \"content\": \"How about adding some cheese for extra flavor?\"},\n",
    "    # {\"role\": \"user\", \"content\": \"Actually, yes! I love like cheese!\"},\n",
    "    # {\"role\": \"assistant\", \"content\": \"I'll remember that you like cheese for future recommendations.\"}\n",
    "]\n",
    "m.add(messages, user_id=\"Richard\")"
   ]
  },
  {
   "cell_type": "markdown",
   "metadata": {},
   "source": [
    "# Search for memories"
   ]
  },
  {
   "cell_type": "code",
   "execution_count": 15,
   "metadata": {},
   "outputs": [
    {
     "name": "stderr",
     "output_type": "stream",
     "text": [
      "/Users/richardcollins/morning-thoughts-analysis/.venv/lib/python3.13/site-packages/qdrant_client/local/distances.py:98: RuntimeWarning: divide by zero encountered in dot\n",
      "  return np.dot(vectors, query)\n",
      "/Users/richardcollins/morning-thoughts-analysis/.venv/lib/python3.13/site-packages/qdrant_client/local/distances.py:98: RuntimeWarning: overflow encountered in dot\n",
      "  return np.dot(vectors, query)\n",
      "/Users/richardcollins/morning-thoughts-analysis/.venv/lib/python3.13/site-packages/qdrant_client/local/distances.py:98: RuntimeWarning: invalid value encountered in dot\n",
      "  return np.dot(vectors, query)\n"
     ]
    },
    {
     "data": {
      "text/plain": [
       "{'results': [{'id': '8a1e59c9-385f-40f4-b065-263071ee4b89',\n",
       "   'memory': 'Has difficulty making quick decisions and tends to be introspective',\n",
       "   'hash': '531fb013d611d556f10898750e56c8ee',\n",
       "   'metadata': None,\n",
       "   'score': 0.1661829819115422,\n",
       "   'created_at': '2025-06-14T00:13:22.349866-07:00',\n",
       "   'updated_at': None,\n",
       "   'user_id': 'Richard'},\n",
       "  {'id': '526678bf-9995-49b9-a387-df8d98234ffc',\n",
       "   'memory': 'Feels a mixture of excitement and deep anxiety about the future of AI and its impact on employment security',\n",
       "   'hash': '2839242718cef6a3eccdddc39456c5bd',\n",
       "   'metadata': None,\n",
       "   'score': 0.14592208796193537,\n",
       "   'created_at': '2025-06-14T00:13:22.345177-07:00',\n",
       "   'updated_at': None,\n",
       "   'user_id': 'Richard'},\n",
       "  {'id': '7b93a16f-dbfc-44b5-bd4d-b259f3fc8119',\n",
       "   'memory': 'Thinks deeply about decisions, leading to solid conclusions based on evidence and rationality',\n",
       "   'hash': 'a2bbda6f11c492e9daaa217d941291c0',\n",
       "   'metadata': None,\n",
       "   'score': 0.1304633558000524,\n",
       "   'created_at': '2025-06-14T00:13:22.352619-07:00',\n",
       "   'updated_at': None,\n",
       "   'user_id': 'Richard'},\n",
       "  {'id': '1b4a24b6-dbbd-4260-9648-551f48eefefc',\n",
       "   'memory': 'Is a software engineer and data analyst, kind of a data scientist',\n",
       "   'hash': '4e1dc5c42b5215b46c74a38b8c33dcec',\n",
       "   'metadata': None,\n",
       "   'score': 0.12665060933724676,\n",
       "   'created_at': '2025-06-14T00:13:22.335467-07:00',\n",
       "   'updated_at': None,\n",
       "   'user_id': 'Richard'},\n",
       "  {'id': '2e4846fd-32f1-40dd-bdc2-844dea41c91c',\n",
       "   'memory': 'Wants to dive deeper into the area of AI and believes there is a lot of money to be made',\n",
       "   'hash': 'cdb68acaaf7b8f88946311a9b808711e',\n",
       "   'metadata': None,\n",
       "   'score': 0.121381725612601,\n",
       "   'created_at': '2025-06-14T00:13:22.347677-07:00',\n",
       "   'updated_at': None,\n",
       "   'user_id': 'Richard'},\n",
       "  {'id': '32f45961-4add-414c-b717-5fbc19305ccc',\n",
       "   'memory': 'Can do a little bit of coding in Python',\n",
       "   'hash': 'db41326418861b068efa056365114712',\n",
       "   'metadata': None,\n",
       "   'score': 0.1196027988812066,\n",
       "   'created_at': '2025-06-14T00:13:22.339170-07:00',\n",
       "   'updated_at': None,\n",
       "   'user_id': 'Richard'},\n",
       "  {'id': 'a6c36c7d-d645-4fd7-8d8b-e33095166532',\n",
       "   'memory': 'Often has good ideas for AI applications but struggles to execute them',\n",
       "   'hash': 'c6ee6cda9f04ffe9d9c047e84aa0f1ee',\n",
       "   'metadata': None,\n",
       "   'score': 0.057979613823402575,\n",
       "   'created_at': '2025-06-14T00:13:22.355163-07:00',\n",
       "   'updated_at': None,\n",
       "   'user_id': 'Richard'},\n",
       "  {'id': '02919a2e-3859-4046-8efa-3597a021356b',\n",
       "   'memory': 'Has been playing with large language models (LLMs) for the past year to year and a half',\n",
       "   'hash': 'b44b8cb27df47bd9f784663a1f95f94b',\n",
       "   'metadata': None,\n",
       "   'score': 0.03812190950086272,\n",
       "   'created_at': '2025-06-14T00:13:22.342322-07:00',\n",
       "   'updated_at': None,\n",
       "   'user_id': 'Richard'}]}"
      ]
     },
     "execution_count": 15,
     "metadata": {},
     "output_type": "execute_result"
    }
   ],
   "source": [
    "related_memories = m.search(\"Should I make a cheese sandwich?\", user_id=\"Richard\")\n",
    "related_memories"
   ]
  },
  {
   "cell_type": "markdown",
   "metadata": {},
   "source": [
    "# Return all memories"
   ]
  },
  {
   "cell_type": "code",
   "execution_count": 17,
   "metadata": {},
   "outputs": [],
   "source": [
    "filters = {\n",
    "   \"AND\": [\n",
    "      {\n",
    "         \"user_id\": \"Richard\"\n",
    "      }\n",
    "   ]\n",
    "}\n",
    "\n",
    "all_memories = m.get_all(user_id=\"Richard\")"
   ]
  },
  {
   "cell_type": "code",
   "execution_count": 20,
   "metadata": {},
   "outputs": [
    {
     "name": "stdout",
     "output_type": "stream",
     "text": [
      "Has been playing with large language models (LLMs) for the past year to year and a half\n",
      "Is a software engineer and data analyst, kind of a data scientist\n",
      "Wants to dive deeper into the area of AI and believes there is a lot of money to be made\n",
      "Can do a little bit of coding in Python\n",
      "Feels a mixture of excitement and deep anxiety about the future of AI and its impact on employment security\n",
      "Thinks deeply about decisions, leading to solid conclusions based on evidence and rationality\n",
      "Has difficulty making quick decisions and tends to be introspective\n",
      "Often has good ideas for AI applications but struggles to execute them\n"
     ]
    }
   ],
   "source": [
    "for memory in all_memories[\"results\"]:\n",
    "    print(memory[\"memory\"])"
   ]
  },
  {
   "cell_type": "code",
   "execution_count": null,
   "metadata": {},
   "outputs": [],
   "source": []
  }
 ],
 "metadata": {
  "kernelspec": {
   "display_name": ".venv",
   "language": "python",
   "name": "python3"
  },
  "language_info": {
   "codemirror_mode": {
    "name": "ipython",
    "version": 3
   },
   "file_extension": ".py",
   "mimetype": "text/x-python",
   "name": "python",
   "nbconvert_exporter": "python",
   "pygments_lexer": "ipython3",
   "version": "3.13.1"
  }
 },
 "nbformat": 4,
 "nbformat_minor": 2
}
