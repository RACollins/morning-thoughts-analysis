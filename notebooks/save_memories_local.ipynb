{
 "cells": [
  {
   "cell_type": "markdown",
   "metadata": {},
   "source": [
    "# Imports"
   ]
  },
  {
   "cell_type": "code",
   "execution_count": 1,
   "metadata": {},
   "outputs": [],
   "source": [
    "\n",
    "from mem0 import Memory\n",
    "from dotenv import load_dotenv\n"
   ]
  },
  {
   "cell_type": "markdown",
   "metadata": {},
   "source": [
    "# Instantiate client"
   ]
  },
  {
   "cell_type": "code",
   "execution_count": 2,
   "metadata": {},
   "outputs": [
    {
     "name": "stderr",
     "output_type": "stream",
     "text": [
      "/Users/richardcollins/morning-thoughts-analysis/.venv/lib/python3.13/site-packages/numpy/linalg/_linalg.py:2791: RuntimeWarning: divide by zero encountered in dot\n",
      "  sqnorm = x.dot(x)\n",
      "/Users/richardcollins/morning-thoughts-analysis/.venv/lib/python3.13/site-packages/numpy/linalg/_linalg.py:2791: RuntimeWarning: overflow encountered in dot\n",
      "  sqnorm = x.dot(x)\n",
      "/Users/richardcollins/morning-thoughts-analysis/.venv/lib/python3.13/site-packages/numpy/linalg/_linalg.py:2791: RuntimeWarning: invalid value encountered in dot\n",
      "  sqnorm = x.dot(x)\n"
     ]
    }
   ],
   "source": [
    "load_dotenv()\n",
    "m = Memory()"
   ]
  },
  {
   "cell_type": "markdown",
   "metadata": {},
   "source": [
    "# Add messages"
   ]
  },
  {
   "cell_type": "code",
   "execution_count": 3,
   "metadata": {},
   "outputs": [
    {
     "data": {
      "text/plain": [
       "{'results': [{'id': '9e983486-9b0c-4fa7-aadb-f89149481373',\n",
       "   'memory': 'User loves cheese',\n",
       "   'event': 'ADD'}]}"
      ]
     },
     "execution_count": 3,
     "metadata": {},
     "output_type": "execute_result"
    }
   ],
   "source": [
    "messages = [\n",
    "    {\"role\": \"user\", \"content\": \"Thinking of making a sandwich. What do you recommend?\"},\n",
    "    {\"role\": \"assistant\", \"content\": \"How about adding some cheese for extra flavor?\"},\n",
    "    {\"role\": \"user\", \"content\": \"Actually, yes! I love like cheese!\"},\n",
    "    {\"role\": \"assistant\", \"content\": \"I'll remember that you like cheese for future recommendations.\"}\n",
    "]\n",
    "m.add(messages, user_id=\"Richard\")"
   ]
  },
  {
   "cell_type": "markdown",
   "metadata": {},
   "source": [
    "# Search for memories"
   ]
  },
  {
   "cell_type": "code",
   "execution_count": 4,
   "metadata": {},
   "outputs": [
    {
     "name": "stderr",
     "output_type": "stream",
     "text": [
      "/Users/richardcollins/morning-thoughts-analysis/.venv/lib/python3.13/site-packages/qdrant_client/local/distances.py:98: RuntimeWarning: divide by zero encountered in dot\n",
      "  return np.dot(vectors, query)\n",
      "/Users/richardcollins/morning-thoughts-analysis/.venv/lib/python3.13/site-packages/qdrant_client/local/distances.py:98: RuntimeWarning: overflow encountered in dot\n",
      "  return np.dot(vectors, query)\n",
      "/Users/richardcollins/morning-thoughts-analysis/.venv/lib/python3.13/site-packages/qdrant_client/local/distances.py:98: RuntimeWarning: invalid value encountered in dot\n",
      "  return np.dot(vectors, query)\n"
     ]
    },
    {
     "data": {
      "text/plain": [
       "{'results': [{'id': '9e983486-9b0c-4fa7-aadb-f89149481373',\n",
       "   'memory': 'User loves cheese',\n",
       "   'hash': '28df31d95b85237227269a47baaa88f0',\n",
       "   'metadata': None,\n",
       "   'score': 0.5259318692155426,\n",
       "   'created_at': '2025-06-12T15:28:56.022914-07:00',\n",
       "   'updated_at': None,\n",
       "   'user_id': 'Richard'}]}"
      ]
     },
     "execution_count": 4,
     "metadata": {},
     "output_type": "execute_result"
    }
   ],
   "source": [
    "related_memories = m.search(\"Should I make a cheese sandwich?\", user_id=\"Richard\")\n",
    "related_memories"
   ]
  },
  {
   "cell_type": "markdown",
   "metadata": {},
   "source": [
    "# Return all memories"
   ]
  },
  {
   "cell_type": "code",
   "execution_count": 5,
   "metadata": {},
   "outputs": [
    {
     "data": {
      "text/plain": [
       "{'results': [{'id': '9e983486-9b0c-4fa7-aadb-f89149481373',\n",
       "   'memory': 'User loves cheese',\n",
       "   'hash': '28df31d95b85237227269a47baaa88f0',\n",
       "   'metadata': None,\n",
       "   'created_at': '2025-06-12T15:28:56.022914-07:00',\n",
       "   'updated_at': None,\n",
       "   'user_id': 'Richard'}]}"
      ]
     },
     "execution_count": 5,
     "metadata": {},
     "output_type": "execute_result"
    }
   ],
   "source": [
    "filters = {\n",
    "   \"AND\": [\n",
    "      {\n",
    "         \"user_id\": \"Richard\"\n",
    "      }\n",
    "   ]\n",
    "}\n",
    "\n",
    "all_memories = m.get_all(user_id=\"Richard\")\n",
    "all_memories"
   ]
  },
  {
   "cell_type": "code",
   "execution_count": null,
   "metadata": {},
   "outputs": [],
   "source": []
  }
 ],
 "metadata": {
  "kernelspec": {
   "display_name": ".venv",
   "language": "python",
   "name": "python3"
  },
  "language_info": {
   "codemirror_mode": {
    "name": "ipython",
    "version": 3
   },
   "file_extension": ".py",
   "mimetype": "text/x-python",
   "name": "python",
   "nbconvert_exporter": "python",
   "pygments_lexer": "ipython3",
   "version": "3.13.1"
  }
 },
 "nbformat": 4,
 "nbformat_minor": 2
}
