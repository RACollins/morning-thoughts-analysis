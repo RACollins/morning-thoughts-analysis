{
 "cells": [
  {
   "cell_type": "markdown",
   "metadata": {},
   "source": [
    "# Imports"
   ]
  },
  {
   "cell_type": "code",
   "execution_count": 1,
   "metadata": {},
   "outputs": [],
   "source": [
    "import os\n",
    "import json\n",
    "import pandas as pd\n",
    "from pathlib import Path\n",
    "from typing import List, Dict\n",
    "\n",
    "# Define paths\n",
    "AUDIO_DIR = Path(\"../data/audio\")\n",
    "TRANSCRIPT_DIR = Path(\"../data/transcripts\")\n",
    "\n",
    "# Create transcripts directory if it doesn't exist\n",
    "TRANSCRIPT_DIR.mkdir(parents=True, exist_ok=True)"
   ]
  },
  {
   "cell_type": "code",
   "execution_count": 2,
   "metadata": {},
   "outputs": [
    {
     "name": "stdout",
     "output_type": "stream",
     "text": [
      "Audio: Morning thoughts 1.m4a\n",
      "Transcript: Morning thoughts 1.json\n",
      "--------------------------------------------------\n",
      "Audio: Morning thoughts 2.m4a\n",
      "Transcript: Morning thoughts 2.json\n",
      "--------------------------------------------------\n",
      "Audio: Morning thoughts 3.m4a\n",
      "Transcript: Morning thoughts 3.json\n",
      "--------------------------------------------------\n",
      "Audio: Morning thoughts 4.m4a\n",
      "Transcript: Morning thoughts 4.json\n",
      "--------------------------------------------------\n",
      "Audio: Morning thoughts 5.m4a\n",
      "Transcript: Morning thoughts 5.json\n",
      "--------------------------------------------------\n",
      "Audio: Morning thoughts 6.m4a\n",
      "Transcript: Morning thoughts 6.json\n",
      "--------------------------------------------------\n"
     ]
    }
   ],
   "source": [
    "def get_audio_files() -> List[Dict]:\n",
    "    \"\"\"\n",
    "    Get a list of audio files and their corresponding transcript paths.\n",
    "    Returns a list of dictionaries containing file information.\n",
    "    \"\"\"\n",
    "    audio_files = []\n",
    "\n",
    "    for audio_file in sorted(AUDIO_DIR.glob(\"*.m4a\")):\n",
    "        # Extract the base name without extension\n",
    "        base_name = audio_file.stem\n",
    "        # Create corresponding transcript path\n",
    "        transcript_path = TRANSCRIPT_DIR / f\"{base_name}.json\"\n",
    "\n",
    "        audio_files.append(\n",
    "            {\n",
    "                \"audio_file\": audio_file,\n",
    "                \"transcript_path\": transcript_path,\n",
    "                \"base_name\": base_name,\n",
    "            }\n",
    "        )\n",
    "\n",
    "    return audio_files\n",
    "\n",
    "\n",
    "# Get list of audio files\n",
    "audio_files = get_audio_files()\n",
    "\n",
    "# Display available files\n",
    "for file_info in audio_files:\n",
    "    print(f\"Audio: {file_info['audio_file'].name}\")\n",
    "    print(f\"Transcript: {file_info['transcript_path'].name}\")\n",
    "    print(\"-\" * 50)"
   ]
  },
  {
   "cell_type": "code",
   "execution_count": 3,
   "metadata": {},
   "outputs": [
    {
     "name": "stdout",
     "output_type": "stream",
     "text": [
      "Displaying transcript for: Morning thoughts 1\n",
      "No transcript data available.\n"
     ]
    }
   ],
   "source": [
    "def read_transcript(transcript_path: Path) -> Dict:\n",
    "    \"\"\"\n",
    "    Read a transcript file and return its contents.\n",
    "    Returns an empty dict if the file doesn't exist.\n",
    "    \"\"\"\n",
    "    if transcript_path.exists():\n",
    "        with open(transcript_path, \"r\") as f:\n",
    "            return json.load(f)\n",
    "    return {}\n",
    "\n",
    "\n",
    "def display_transcript_content(transcript_data: Dict):\n",
    "    \"\"\"\n",
    "    Display the contents of a transcript in a formatted way.\n",
    "    \"\"\"\n",
    "    if not transcript_data:\n",
    "        print(\"No transcript data available.\")\n",
    "        return\n",
    "\n",
    "    # Create a DataFrame for better display\n",
    "    # Assuming the transcript data has a text field and timestamp\n",
    "    # Modify this based on your actual transcript structure\n",
    "    df = pd.DataFrame(transcript_data)\n",
    "    display(df)\n",
    "\n",
    "\n",
    "# Example usage:\n",
    "# Choose the first transcript to display\n",
    "if audio_files:\n",
    "    first_transcript = read_transcript(audio_files[0][\"transcript_path\"])\n",
    "    print(f\"Displaying transcript for: {audio_files[0]['base_name']}\")\n",
    "    display_transcript_content(first_transcript)"
   ]
  },
  {
   "cell_type": "markdown",
   "metadata": {},
   "source": []
  }
 ],
 "metadata": {
  "kernelspec": {
   "display_name": ".venv",
   "language": "python",
   "name": "python3"
  },
  "language_info": {
   "codemirror_mode": {
    "name": "ipython",
    "version": 3
   },
   "file_extension": ".py",
   "mimetype": "text/x-python",
   "name": "python",
   "nbconvert_exporter": "python",
   "pygments_lexer": "ipython3",
   "version": "3.13.1"
  }
 },
 "nbformat": 4,
 "nbformat_minor": 2
}
